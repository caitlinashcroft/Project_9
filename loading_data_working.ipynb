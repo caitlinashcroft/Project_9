{
 "cells": [
  {
   "cell_type": "code",
   "execution_count": 8,
   "metadata": {
    "collapsed": true
   },
   "outputs": [],
   "source": [
    "import pandas as pd\n",
    "import numpy as np \n",
    "\n",
    "def LoadSpikeTimes(bs, MinCluId=2):\n",
    "\n",
    "        res = pd.read_csv(bs+'.res', header=None, squeeze=True).values\n",
    "        clu = pd.read_csv(bs+'.clu', squeeze=True).values\n",
    "        if MinCluId is not None:\n",
    "                mask = clu >= MinCluId\n",
    "                clu = clu[mask]\n",
    "                res = res[mask]\n",
    "                \n",
    "        return res,clu\n",
    "    \n",
    "def LoadUnits(b, par=None):\n",
    "    \n",
    "        '''Load \"units\" information (mostly from des-file).\n",
    "\n",
    "        INPUT:\n",
    "        - [b]:       <str> containing \"block base\"\n",
    "\n",
    "        OUTPUT:\n",
    "        - [trodes]:  <DataFrame>'''\n",
    "\n",
    "        ## If not provided, load the par-file information\n",
    "        if par is None:\n",
    "                par = LoadPar(b)\n",
    "\n",
    "        ## For each tetrode, read in its \"per tetode\" des-file\n",
    "        trode_index = range(1, len(par['trode_ch'])+1)\n",
    "        units = [pd.read_csv(b+'.des.'+str(t), header=None, names=['des']) for t in trode_index]\n",
    "        units = pd.concat(units, keys=trode_index, names=['trode','trode_unit']).reset_index()\n",
    "\n",
    "        all_trodes = pd.read_csv(b+'.des', header=None, names=['des'])\n",
    "        if ~np.all(all_trodes.des == units.des):\n",
    "                units.des = all_trodes.des\n",
    "\n",
    "        ## Let the \"index per tetrode\" and the index of this <DataFrame> start from 2(!) instead of 0\n",
    "        units['trode_unit'] += 2\n",
    "        units.index += 2\n",
    "\n",
    "        ## Return the \"unit\"-information as <DataFrame>\n",
    "        return unitspd.read_csv(b+'.clu'+t, squeeze=True).values\n",
    "    \n",
    "def loadDes(b):\n",
    "        # returns des matched to clu id\n",
    "        des = pd.read_csv(b+'.des', header=None, names=['des'])\n",
    "        des.index +=2\n",
    "        return des\n",
    "    \n",
    "# REMEMBER TO CHANGE THIS TO MATCH THE PATH IN YOUR COMPUTER\n",
    "b = '/mnt/vlopes/merged/mvl10-200109/mvl10-200109' #basename \n",
    "bs = b+'_'+str(2)\n",
    "\n",
    "res,clu = LoadSpikeTimes(bs)\n",
    "cycles = np.load(bs+'.theta.cycles.7')\n",
    "des = loadDes(b) # des indices correspond to the cell ids in the clu file"
   ]
  }
 ],
 "metadata": {
  "kernelspec": {
   "display_name": "Python 3",
   "language": "python",
   "name": "python3"
  },
  "language_info": {
   "codemirror_mode": {
    "name": "ipython",
    "version": 3
   },
   "file_extension": ".py",
   "mimetype": "text/x-python",
   "name": "python",
   "nbconvert_exporter": "python",
   "pygments_lexer": "ipython3",
   "version": "3.5.2"
  }
 },
 "nbformat": 4,
 "nbformat_minor": 2
}
